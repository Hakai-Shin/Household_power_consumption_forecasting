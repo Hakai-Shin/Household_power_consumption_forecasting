{
  "nbformat": 4,
  "nbformat_minor": 0,
  "metadata": {
    "colab": {
      "name": "Q4.ipynb",
      "provenance": [],
      "collapsed_sections": []
    },
    "kernelspec": {
      "name": "python3",
      "display_name": "Python 3"
    }
  },
  "cells": [
    {
      "cell_type": "markdown",
      "metadata": {
        "id": "CVZKfy622Y2c",
        "colab_type": "text"
      },
      "source": [
        "#Q-4\n",
        "#Regression"
      ]
    },
    {
      "cell_type": "markdown",
      "metadata": {
        "id": "LRnrZaJ62lSD",
        "colab_type": "text"
      },
      "source": [
        "* Performed regression over the dataset of global\n",
        "active power values.\n",
        "\n",
        "* Implemented **Multilayer Perceptron(MLP)** as well as a **linear regression** model for\n",
        "this question. \n",
        "\n",
        "* Compared and contrasted the performance of both the models on metrics like **Root Mean Squared Error(RMSE), Mean Absolute Percentage Error(MAPE) score**.\n",
        "\n",
        "* Considered only the **Global active power field**.\n",
        "\n",
        "* Experimented with different architectures(number of hidden layers, activation functions etc) and see the impact on performance.\n",
        "\n",
        "* Also experimented on taking some more window of past power values and reported the\n",
        "performance (For example taking a window of two hours instead of one).\n",
        "\n"
      ]
    },
    {
      "cell_type": "markdown",
      "metadata": {
        "id": "_bWQ4M2q_iyf",
        "colab_type": "text"
      },
      "source": [
        "## Import libraries"
      ]
    },
    {
      "cell_type": "code",
      "metadata": {
        "id": "i1tvUDoM4pzO",
        "colab_type": "code",
        "colab": {}
      },
      "source": [
        "import sys\n",
        "import pandas as pd\n",
        "import numpy as np\n",
        "from sklearn.metrics import mean_squared_error\n",
        "from sklearn.preprocessing import MinMaxScaler\n",
        "from sklearn.metrics import mean_squared_error, r2_score\n",
        "\n",
        "def mean_absolute_percentage_error(y_true, y_pred): \n",
        "    return np.mean(np.abs((y_true - y_pred) / y_true)) * 100"
      ],
      "execution_count": 0,
      "outputs": []
    },
    {
      "cell_type": "markdown",
      "metadata": {
        "id": "Tdtde3xx_mlR",
        "colab_type": "text"
      },
      "source": [
        "## Load Data"
      ]
    },
    {
      "cell_type": "code",
      "metadata": {
        "id": "85-oLNbA2Ujh",
        "colab_type": "code",
        "outputId": "ed19b5d4-44f7-4bbb-c8b9-862b9e32f0ce",
        "colab": {
          "base_uri": "https://localhost:8080/",
          "height": 187
        }
      },
      "source": [
        "path=\"/content/drive/My Drive/IIIT-H/Statistical_Methods_in_AI/Assignment-III/\"\n",
        "#path=sys.argv[1]\n",
        "file_name=path+'household_power_consumption.txt'\n",
        "dataset = pd.read_csv(file_name, sep=';', header=0, low_memory=False, infer_datetime_format=True,na_values=['nan','?'], parse_dates={'datetime':[0,1]}, index_col=['datetime'])\n",
        "# summarize\n",
        "print(dataset.shape)\n",
        "print(dataset.head())"
      ],
      "execution_count": 0,
      "outputs": [
        {
          "output_type": "stream",
          "text": [
            "(2075259, 7)\n",
            "                     Global_active_power  ...  Sub_metering_3\n",
            "datetime                                  ...                \n",
            "2006-12-16 17:24:00                4.216  ...            17.0\n",
            "2006-12-16 17:25:00                5.360  ...            16.0\n",
            "2006-12-16 17:26:00                5.374  ...            17.0\n",
            "2006-12-16 17:27:00                5.388  ...            17.0\n",
            "2006-12-16 17:28:00                3.666  ...            17.0\n",
            "\n",
            "[5 rows x 7 columns]\n"
          ],
          "name": "stdout"
        }
      ]
    },
    {
      "cell_type": "code",
      "metadata": {
        "id": "HjcvhE6b7p4W",
        "colab_type": "code",
        "colab": {}
      },
      "source": [
        "df=dataset.copy()"
      ],
      "execution_count": 0,
      "outputs": []
    },
    {
      "cell_type": "markdown",
      "metadata": {
        "id": "dH_kZ5MH_p3w",
        "colab_type": "text"
      },
      "source": [
        "## Data Analysis"
      ]
    },
    {
      "cell_type": "code",
      "metadata": {
        "id": "JZH18TqF58Cn",
        "colab_type": "code",
        "outputId": "0f6fea94-ddd1-4fb7-e70e-55929e6b4c7a",
        "colab": {
          "base_uri": "https://localhost:8080/",
          "height": 297
        }
      },
      "source": [
        "df.describe()"
      ],
      "execution_count": 0,
      "outputs": [
        {
          "output_type": "execute_result",
          "data": {
            "text/html": [
              "<div>\n",
              "<style scoped>\n",
              "    .dataframe tbody tr th:only-of-type {\n",
              "        vertical-align: middle;\n",
              "    }\n",
              "\n",
              "    .dataframe tbody tr th {\n",
              "        vertical-align: top;\n",
              "    }\n",
              "\n",
              "    .dataframe thead th {\n",
              "        text-align: right;\n",
              "    }\n",
              "</style>\n",
              "<table border=\"1\" class=\"dataframe\">\n",
              "  <thead>\n",
              "    <tr style=\"text-align: right;\">\n",
              "      <th></th>\n",
              "      <th>Global_active_power</th>\n",
              "      <th>Global_reactive_power</th>\n",
              "      <th>Voltage</th>\n",
              "      <th>Global_intensity</th>\n",
              "      <th>Sub_metering_1</th>\n",
              "      <th>Sub_metering_2</th>\n",
              "      <th>Sub_metering_3</th>\n",
              "    </tr>\n",
              "  </thead>\n",
              "  <tbody>\n",
              "    <tr>\n",
              "      <th>count</th>\n",
              "      <td>2.049280e+06</td>\n",
              "      <td>2.049280e+06</td>\n",
              "      <td>2.049280e+06</td>\n",
              "      <td>2.049280e+06</td>\n",
              "      <td>2.049280e+06</td>\n",
              "      <td>2.049280e+06</td>\n",
              "      <td>2.049280e+06</td>\n",
              "    </tr>\n",
              "    <tr>\n",
              "      <th>mean</th>\n",
              "      <td>1.091615e+00</td>\n",
              "      <td>1.237145e-01</td>\n",
              "      <td>2.408399e+02</td>\n",
              "      <td>4.627759e+00</td>\n",
              "      <td>1.121923e+00</td>\n",
              "      <td>1.298520e+00</td>\n",
              "      <td>6.458447e+00</td>\n",
              "    </tr>\n",
              "    <tr>\n",
              "      <th>std</th>\n",
              "      <td>1.057294e+00</td>\n",
              "      <td>1.127220e-01</td>\n",
              "      <td>3.239987e+00</td>\n",
              "      <td>4.444396e+00</td>\n",
              "      <td>6.153031e+00</td>\n",
              "      <td>5.822026e+00</td>\n",
              "      <td>8.437154e+00</td>\n",
              "    </tr>\n",
              "    <tr>\n",
              "      <th>min</th>\n",
              "      <td>7.600000e-02</td>\n",
              "      <td>0.000000e+00</td>\n",
              "      <td>2.232000e+02</td>\n",
              "      <td>2.000000e-01</td>\n",
              "      <td>0.000000e+00</td>\n",
              "      <td>0.000000e+00</td>\n",
              "      <td>0.000000e+00</td>\n",
              "    </tr>\n",
              "    <tr>\n",
              "      <th>25%</th>\n",
              "      <td>3.080000e-01</td>\n",
              "      <td>4.800000e-02</td>\n",
              "      <td>2.389900e+02</td>\n",
              "      <td>1.400000e+00</td>\n",
              "      <td>0.000000e+00</td>\n",
              "      <td>0.000000e+00</td>\n",
              "      <td>0.000000e+00</td>\n",
              "    </tr>\n",
              "    <tr>\n",
              "      <th>50%</th>\n",
              "      <td>6.020000e-01</td>\n",
              "      <td>1.000000e-01</td>\n",
              "      <td>2.410100e+02</td>\n",
              "      <td>2.600000e+00</td>\n",
              "      <td>0.000000e+00</td>\n",
              "      <td>0.000000e+00</td>\n",
              "      <td>1.000000e+00</td>\n",
              "    </tr>\n",
              "    <tr>\n",
              "      <th>75%</th>\n",
              "      <td>1.528000e+00</td>\n",
              "      <td>1.940000e-01</td>\n",
              "      <td>2.428900e+02</td>\n",
              "      <td>6.400000e+00</td>\n",
              "      <td>0.000000e+00</td>\n",
              "      <td>1.000000e+00</td>\n",
              "      <td>1.700000e+01</td>\n",
              "    </tr>\n",
              "    <tr>\n",
              "      <th>max</th>\n",
              "      <td>1.112200e+01</td>\n",
              "      <td>1.390000e+00</td>\n",
              "      <td>2.541500e+02</td>\n",
              "      <td>4.840000e+01</td>\n",
              "      <td>8.800000e+01</td>\n",
              "      <td>8.000000e+01</td>\n",
              "      <td>3.100000e+01</td>\n",
              "    </tr>\n",
              "  </tbody>\n",
              "</table>\n",
              "</div>"
            ],
            "text/plain": [
              "       Global_active_power  ...  Sub_metering_3\n",
              "count         2.049280e+06  ...    2.049280e+06\n",
              "mean          1.091615e+00  ...    6.458447e+00\n",
              "std           1.057294e+00  ...    8.437154e+00\n",
              "min           7.600000e-02  ...    0.000000e+00\n",
              "25%           3.080000e-01  ...    0.000000e+00\n",
              "50%           6.020000e-01  ...    1.000000e+00\n",
              "75%           1.528000e+00  ...    1.700000e+01\n",
              "max           1.112200e+01  ...    3.100000e+01\n",
              "\n",
              "[8 rows x 7 columns]"
            ]
          },
          "metadata": {
            "tags": []
          },
          "execution_count": 4
        }
      ]
    },
    {
      "cell_type": "code",
      "metadata": {
        "id": "FcuZjiOA-cgA",
        "colab_type": "code",
        "outputId": "066f4bd8-b98b-409b-9396-f2425fd807d7",
        "colab": {
          "base_uri": "https://localhost:8080/",
          "height": 153
        }
      },
      "source": [
        "df.dtypes"
      ],
      "execution_count": 0,
      "outputs": [
        {
          "output_type": "execute_result",
          "data": {
            "text/plain": [
              "Global_active_power      float64\n",
              "Global_reactive_power    float64\n",
              "Voltage                  float64\n",
              "Global_intensity         float64\n",
              "Sub_metering_1           float64\n",
              "Sub_metering_2           float64\n",
              "Sub_metering_3           float64\n",
              "dtype: object"
            ]
          },
          "metadata": {
            "tags": []
          },
          "execution_count": 5
        }
      ]
    },
    {
      "cell_type": "code",
      "metadata": {
        "id": "2H5oP4HqKzr7",
        "colab_type": "code",
        "colab": {}
      },
      "source": [
        "#data = df.resample('H').sum()\n",
        "data=df.copy()\n",
        "data2=df.copy()"
      ],
      "execution_count": 0,
      "outputs": []
    },
    {
      "cell_type": "code",
      "metadata": {
        "id": "IO58lkSdb0hX",
        "colab_type": "code",
        "colab": {}
      },
      "source": [
        "\n",
        "data=data.drop(['Global_reactive_power', 'Voltage','Global_intensity','Sub_metering_2','Sub_metering_3','Sub_metering_1'],axis=1)\n",
        "test_data=data.fillna(value=0)"
      ],
      "execution_count": 0,
      "outputs": []
    },
    {
      "cell_type": "code",
      "metadata": {
        "id": "jx9-Lsc54wSa",
        "colab_type": "code",
        "colab": {}
      },
      "source": [
        "def fill_missing(data):\n",
        "    one_day = 24*60*30\n",
        "    for row in range(data.shape[0]):\n",
        "        for col in range(data.shape[1]):\n",
        "            if np.isnan(data[row, col]):\n",
        "                data[row, col] = data[row-one_day, col]\n",
        "fill_missing(data2.values)\n",
        "data_train=data2.drop(['Global_reactive_power', 'Voltage','Global_intensity','Sub_metering_2','Sub_metering_3','Sub_metering_1'],axis=1)"
      ],
      "execution_count": 0,
      "outputs": []
    },
    {
      "cell_type": "code",
      "metadata": {
        "id": "BWdvooXwyUmP",
        "colab_type": "code",
        "colab": {}
      },
      "source": [
        "time_frame=60\n",
        "window_size=1\n",
        "data_train=np.array(data_train)\n",
        "ws=time_frame*window_size\n",
        "X_test=[]\n",
        "y_true=[]\n",
        "missing_index=[]\n",
        "test_data=np.array(test_data)\n",
        "for i in range(ws,data.shape[0]):\n",
        "  if(test_data[i]==0):\n",
        "    test_=data_train[i-ws:i]\n",
        "    X_test.append(test_)\n",
        "    y_true.append(data_train[i])\n",
        "    missing_index.append(i)"
      ],
      "execution_count": 0,
      "outputs": []
    },
    {
      "cell_type": "markdown",
      "metadata": {
        "id": "XHK3owPIwnaq",
        "colab_type": "text"
      },
      "source": [
        "setting window size=2 hours\n",
        "now input will be\n",
        "\n",
        "(t0,t1,t2......t120)\n",
        "\n",
        "and output\n",
        "\n",
        "t121\n"
      ]
    },
    {
      "cell_type": "code",
      "metadata": {
        "id": "4TBNZdmitCvq",
        "colab_type": "code",
        "colab": {}
      },
      "source": [
        "\n",
        "X_train, y_train = [], []\n",
        "for i in range(0, data_train.shape[0]-ws):\n",
        "    train_=data_train[i:i+ws]\n",
        "    X_train.append(train_)\n",
        "    y_train.append(data_train[i+ws])\n"
      ],
      "execution_count": 0,
      "outputs": []
    },
    {
      "cell_type": "code",
      "metadata": {
        "id": "hZ9_4JBttMmr",
        "colab_type": "code",
        "colab": {}
      },
      "source": [
        "X_train, y_train = np.asarray(X_train), np.asarray(y_train)\n",
        "X_test= np.asarray(X_test)"
      ],
      "execution_count": 0,
      "outputs": []
    },
    {
      "cell_type": "markdown",
      "metadata": {
        "id": "516VkMtrMT6C",
        "colab_type": "text"
      },
      "source": [
        "### Model Implementation"
      ]
    },
    {
      "cell_type": "code",
      "metadata": {
        "id": "58gzzn3mgaj4",
        "colab_type": "code",
        "colab": {}
      },
      "source": [
        "from sklearn.linear_model import LinearRegression\n",
        "from sklearn.linear_model import Ridge"
      ],
      "execution_count": 0,
      "outputs": []
    },
    {
      "cell_type": "code",
      "metadata": {
        "id": "ZRQVOoQEEjuB",
        "colab_type": "code",
        "colab": {}
      },
      "source": [
        "X_train = X_train.reshape(X_train.shape[0],X_train.shape[1])"
      ],
      "execution_count": 0,
      "outputs": []
    },
    {
      "cell_type": "code",
      "metadata": {
        "id": "19AAmp20gazA",
        "colab_type": "code",
        "outputId": "9867a6c7-2288-4dfa-b827-bb49d241da6e",
        "colab": {
          "base_uri": "https://localhost:8080/",
          "height": 34
        }
      },
      "source": [
        "reg = LinearRegression()\n",
        "#reg = Ridge(alpha=10)\n",
        "reg.fit(X_train, y_train)"
      ],
      "execution_count": 0,
      "outputs": [
        {
          "output_type": "execute_result",
          "data": {
            "text/plain": [
              "LinearRegression(copy_X=True, fit_intercept=True, n_jobs=None, normalize=False)"
            ]
          },
          "metadata": {
            "tags": []
          },
          "execution_count": 14
        }
      ]
    },
    {
      "cell_type": "code",
      "metadata": {
        "id": "LtOa_ZisGtRb",
        "colab_type": "code",
        "outputId": "e5f7ca28-c031-4c01-b421-d3a1f051cfef",
        "colab": {
          "base_uri": "https://localhost:8080/",
          "height": 34
        }
      },
      "source": [
        "X_test.shape"
      ],
      "execution_count": 0,
      "outputs": [
        {
          "output_type": "execute_result",
          "data": {
            "text/plain": [
              "(25979, 60, 1)"
            ]
          },
          "metadata": {
            "tags": []
          },
          "execution_count": 15
        }
      ]
    },
    {
      "cell_type": "code",
      "metadata": {
        "id": "EGXX1dWpGpXK",
        "colab_type": "code",
        "colab": {}
      },
      "source": [
        "X_test = X_test.reshape(X_test.shape[0],X_test.shape[1])"
      ],
      "execution_count": 0,
      "outputs": []
    },
    {
      "cell_type": "code",
      "metadata": {
        "id": "oDRINF2BG7yn",
        "colab_type": "code",
        "outputId": "1b6c3c81-2af1-4db3-c56e-32ccc180060d",
        "colab": {
          "base_uri": "https://localhost:8080/",
          "height": 34
        }
      },
      "source": [
        "X_test.min()"
      ],
      "execution_count": 0,
      "outputs": [
        {
          "output_type": "execute_result",
          "data": {
            "text/plain": [
              "0.102"
            ]
          },
          "metadata": {
            "tags": []
          },
          "execution_count": 17
        }
      ]
    },
    {
      "cell_type": "code",
      "metadata": {
        "id": "sHsGKnbhgbC1",
        "colab_type": "code",
        "colab": {}
      },
      "source": [
        "y_pred=reg.predict(X_test)"
      ],
      "execution_count": 0,
      "outputs": []
    },
    {
      "cell_type": "code",
      "metadata": {
        "id": "NXqL7bt9G2BH",
        "colab_type": "code",
        "outputId": "369346d6-a489-4aa9-dc63-900b340c4c6f",
        "colab": {
          "base_uri": "https://localhost:8080/",
          "height": 34
        }
      },
      "source": [
        "y_pred.min()"
      ],
      "execution_count": 0,
      "outputs": [
        {
          "output_type": "execute_result",
          "data": {
            "text/plain": [
              "0.0891552446707519"
            ]
          },
          "metadata": {
            "tags": []
          },
          "execution_count": 19
        }
      ]
    },
    {
      "cell_type": "code",
      "metadata": {
        "id": "SVzeDFkJg7T3",
        "colab_type": "code",
        "outputId": "ef7f7d47-6950-44cc-fceb-6baac8b7dc5d",
        "colab": {
          "base_uri": "https://localhost:8080/",
          "height": 68
        }
      },
      "source": [
        "print('Mean squared error: %f'\n",
        "      % mean_squared_error(y_true,y_pred))\n",
        "# The coefficient of determination: 1 is perfect prediction\n",
        "\n",
        "print('R2 Score: %f'\n",
        "      % r2_score(y_true, y_pred))\n",
        "\n",
        "\n",
        "print('Mean Absolute Percentage Error: %f'\n",
        "      % mean_absolute_percentage_error(y_true, y_pred))"
      ],
      "execution_count": 0,
      "outputs": [
        {
          "output_type": "stream",
          "text": [
            "Mean squared error: 0.054007\n",
            "R2 Score: 0.941438\n",
            "Mean Absolute Percentage Error: 10.915352\n"
          ],
          "name": "stdout"
        }
      ]
    },
    {
      "cell_type": "markdown",
      "metadata": {
        "id": "NF1Cux5ZyFWl",
        "colab_type": "text"
      },
      "source": [
        "Mean squared error: 0.054007\n",
        "\n",
        "R2 Score: 0.941438\n",
        "\n",
        "Mean Absolute Percentage Error: 10.915352"
      ]
    },
    {
      "cell_type": "markdown",
      "metadata": {
        "id": "pnBMmJziiqbg",
        "colab_type": "text"
      },
      "source": [
        "### Multi Layer Perceptron"
      ]
    },
    {
      "cell_type": "code",
      "metadata": {
        "id": "zl2TEiLNipcM",
        "colab_type": "code",
        "colab": {}
      },
      "source": [
        "X_train = X_train.reshape(X_train.shape[0], 1,ws)\n",
        "X_test = X_test.reshape(X_test.shape[0],1, ws)"
      ],
      "execution_count": 0,
      "outputs": []
    },
    {
      "cell_type": "code",
      "metadata": {
        "id": "RMM2DICJybgJ",
        "colab_type": "code",
        "colab": {}
      },
      "source": [
        "from tensorflow.keras import Sequential\n",
        "from tensorflow.keras.layers import Dense,Dropout"
      ],
      "execution_count": 0,
      "outputs": []
    },
    {
      "cell_type": "code",
      "metadata": {
        "id": "Wx6_O0v4dILq",
        "colab_type": "code",
        "colab": {}
      },
      "source": [
        "reg = Sequential()\n",
        "reg.add(Dense(ws,activation = 'relu',input_shape=(1,ws)))                         \n",
        "reg.add(Dense(ws,activation = 'relu'))\n",
        "reg.add(Dropout(0.2))\n",
        "reg.add(Dense(1))"
      ],
      "execution_count": 0,
      "outputs": []
    },
    {
      "cell_type": "markdown",
      "metadata": {
        "id": "X17LnzjpsNIH",
        "colab_type": "text"
      },
      "source": [
        "created a MLP with (windowsize) number of nodes in first layer\n",
        "(windowsize) number of nodes in second layer\n",
        "(windowsize) number of nodes in third layer\n",
        "a 20% dropout layer \n",
        "and final output layer with 1 node\n",
        "all nodes are fully connected"
      ]
    },
    {
      "cell_type": "code",
      "metadata": {
        "id": "eOc23-IcjXWw",
        "colab_type": "code",
        "outputId": "7ed069dd-cb31-4d12-99c3-e132607bf253",
        "colab": {
          "base_uri": "https://localhost:8080/",
          "height": 204
        }
      },
      "source": [
        "reg.compile(loss='mean_squared_error', optimizer='adam')\n",
        "reg.fit(X_train, y_train,shuffle=False,batch_size=200, epochs = 5)"
      ],
      "execution_count": 0,
      "outputs": [
        {
          "output_type": "stream",
          "text": [
            "Epoch 1/5\n",
            "10376/10376 [==============================] - 20s 2ms/step - loss: 0.1066\n",
            "Epoch 2/5\n",
            "10376/10376 [==============================] - 20s 2ms/step - loss: 0.0856\n",
            "Epoch 3/5\n",
            "10376/10376 [==============================] - 20s 2ms/step - loss: 0.0812\n",
            "Epoch 4/5\n",
            "10376/10376 [==============================] - 19s 2ms/step - loss: 0.0796\n",
            "Epoch 5/5\n",
            "10376/10376 [==============================] - 19s 2ms/step - loss: 0.0781\n"
          ],
          "name": "stdout"
        },
        {
          "output_type": "execute_result",
          "data": {
            "text/plain": [
              "<tensorflow.python.keras.callbacks.History at 0x7fda83d59b38>"
            ]
          },
          "metadata": {
            "tags": []
          },
          "execution_count": 24
        }
      ]
    },
    {
      "cell_type": "code",
      "metadata": {
        "id": "6ZBB3A7sivt1",
        "colab_type": "code",
        "colab": {}
      },
      "source": [
        " y_pred = reg.predict(X_test)\n"
      ],
      "execution_count": 0,
      "outputs": []
    },
    {
      "cell_type": "code",
      "metadata": {
        "id": "ZWo4yGHhLzfL",
        "colab_type": "code",
        "colab": {}
      },
      "source": [
        "y_pred=y_pred.reshape(y_pred.shape[0], 1)"
      ],
      "execution_count": 0,
      "outputs": []
    },
    {
      "cell_type": "code",
      "metadata": {
        "id": "2LGZohbFiv5u",
        "colab_type": "code",
        "outputId": "e55358d6-de6e-404c-f22b-f0b04f866d73",
        "colab": {
          "base_uri": "https://localhost:8080/",
          "height": 68
        }
      },
      "source": [
        "print('Mean squared error: %f'\n",
        "      % mean_squared_error(y_true,y_pred))\n",
        "# The coefficient of determination: 1 is perfect prediction\n",
        "\n",
        "print('R2 Score: %f'\n",
        "      % r2_score(y_true, y_pred))\n",
        "\n",
        "\n",
        "print('Mean Absolute Percentage Error: %f'\n",
        "      % mean_absolute_percentage_error(y_true, y_pred))"
      ],
      "execution_count": 0,
      "outputs": [
        {
          "output_type": "stream",
          "text": [
            "Mean squared error: 0.051717\n",
            "R2 Score: 0.943920\n",
            "Mean Absolute Percentage Error: 9.937234\n"
          ],
          "name": "stdout"
        }
      ]
    },
    {
      "cell_type": "code",
      "metadata": {
        "id": "rX26VAIDjGwi",
        "colab_type": "code",
        "colab": {}
      },
      "source": [
        "import sys\n",
        "import pandas as pd\n",
        "import numpy as np\n",
        "from sklearn.preprocessing import MinMaxScaler\n",
        "from sklearn.linear_model import LinearRegression\n",
        "def fill_missing(data):\n",
        "    one_day = 24*60\n",
        "    for row in range(data.shape[0]):\n",
        "        for col in range(data.shape[1]):\n",
        "            if np.isnan(data[row, col]):\n",
        "                data[row, col] = data[row-one_day, col]\n",
        "def window(data,ws):\n",
        "    X_train, y_train = [], []\n",
        "    for i in range(ws, len(data_train)-ws-1):\n",
        "        X_train.append(data_train[i:i+ws])\n",
        "        y_train.append(data_train[i+ws])\n",
        "    X_test, y_test = [], []\n",
        "    for i in range(ws, len(data_test)-ws-1):\n",
        "        X_test.append(data_test[i:i+ws])\n",
        "        y_test.append(data_test[i+ws])\n",
        "    return X_train,y_train,X_test,y_test\n",
        "\n",
        "path=sys.argv[1]\n",
        "file_name=path+'household_power_consumption.txt'\n",
        "dataset = pd.read_csv(file_name, sep=';', header=0, low_memory=False, infer_datetime_format=True,na_values=['nan','?'], parse_dates={'datetime':[0,1]}, index_col=['datetime'])\n",
        "df=dataset.copy()\n",
        "data=df.copy()\n",
        "data2=df.copy()\n",
        "data=data.drop(['Global_reactive_power', 'Voltage','Global_intensity','Sub_metering_2','Sub_metering_3','Sub_metering_1'],axis=1)\n",
        "test_data=data.fillna(value=0)\n",
        "fill_missing(data2.values)\n",
        "data_train=data2.drop(['Global_reactive_power', 'Voltage','Global_intensity','Sub_metering_2','Sub_metering_3','Sub_metering_1'],axis=1)\n",
        "time_frame=60\n",
        "window_size=1\n",
        "data_train=np.array(data_train)\n",
        "ws=time_frame*window_size\n",
        "X_test=[]\n",
        "y_true=[]\n",
        "missing_index=[]\n",
        "test_data=np.array(test_data)\n",
        "for i in range(ws,data.shape[0]):\n",
        "  if(test_data[i]==0):\n",
        "    test_=data_train[i-ws:i]\n",
        "    X_test.append(test_)\n",
        "    y_true.append(data_train[i])\n",
        "    missing_index.append(i)\n",
        "X_train, y_train = [], []\n",
        "for i in range(0, data_train.shape[0]-ws):\n",
        "    train_=data_train[i:i+ws]\n",
        "    X_train.append(train_)\n",
        "    y_train.append(data_train[i+ws])\n",
        "X_train, y_train = np.asarray(X_train), np.asarray(y_train)\n",
        "X_test= np.asarray(X_test)\n",
        "X_train = X_train.reshape(X_train.shape[0],X_train.shape[1])\n",
        "reg = LinearRegression()\n",
        "reg.fit(X_train, y_train)\n",
        "X_test = X_test.reshape(X_test.shape[0],X_test.shape[1])\n",
        "y_pred=reg.predict(X_test)\n",
        "print(y_pred)"
      ],
      "execution_count": 0,
      "outputs": []
    },
    {
      "cell_type": "markdown",
      "metadata": {
        "id": "4LcVZ4Zd0dFi",
        "colab_type": "text"
      },
      "source": [
        "## After experimenting with various architectures of mlp by adding extra layers,decreasing batch size,increasing epoch and experimented with linear regression with and without regularization,it is found linear regression with window size 2 giving least mean square error"
      ]
    }
  ]
}